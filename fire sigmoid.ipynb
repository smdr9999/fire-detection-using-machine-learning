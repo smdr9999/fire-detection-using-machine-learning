{
 "cells": [
  {
   "cell_type": "code",
   "execution_count": 1,
   "id": "8924a31d-d6e5-406e-81eb-c999853d1c21",
   "metadata": {},
   "outputs": [
    {
     "name": "stdout",
     "output_type": "stream",
     "text": [
      "WARNING:tensorflow:From C:\\Users\\TOM & JERRY\\AppData\\Local\\Programs\\Python\\Python311\\Lib\\site-packages\\keras\\src\\losses.py:2976: The name tf.losses.sparse_softmax_cross_entropy is deprecated. Please use tf.compat.v1.losses.sparse_softmax_cross_entropy instead.\n",
      "\n"
     ]
    }
   ],
   "source": [
    "import tensorflow as tf\n",
    "import numpy as np\n",
    "from tensorflow import keras\n",
    "import os\n",
    "import cv2\n",
    "from tensorflow.keras.preprocessing.image import ImageDataGenerator\n",
    "from tensorflow.keras.preprocessing import image\n",
    "import matplotlib.pyplot as plt\n"
   ]
  },
  {
   "cell_type": "code",
   "execution_count": 2,
   "id": "04a58c4c-ae4e-4420-bbc2-f7f40e947215",
   "metadata": {},
   "outputs": [
    {
     "name": "stdout",
     "output_type": "stream",
     "text": [
      "Found 1832 images belonging to 2 classes.\n",
      "Found 68 images belonging to 2 classes.\n"
     ]
    },
    {
     "data": {
      "text/plain": [
       "{'fire': 0, 'nofire': 1}"
      ]
     },
     "execution_count": 2,
     "metadata": {},
     "output_type": "execute_result"
    }
   ],
   "source": [
    "train = ImageDataGenerator(rescale=1/255)\n",
    "test = ImageDataGenerator(rescale=1/255)\n",
    "train_dataset = train.flow_from_directory(\"D:/Project/III Year/archive/forest_fire/Training and Validation/\",\n",
    "                                          target_size=(150,150),\n",
    "                                          batch_size=32,\n",
    "                                          class_mode='binary')\n",
    "test_dataset = test.flow_from_directory(\"D:/Project/III Year/archive/forest_fire/Testing/\",\n",
    "                                          target_size=(150,150),\n",
    "                                          batch_size=32,\n",
    "                                          class_mode='binary')\n",
    "\n",
    "test_dataset.class_indices\n"
   ]
  },
  {
   "cell_type": "code",
   "execution_count": 3,
   "id": "7b1d3dba-6f73-469b-8e4c-2afb8894de45",
   "metadata": {},
   "outputs": [
    {
     "name": "stdout",
     "output_type": "stream",
     "text": [
      "WARNING:tensorflow:From C:\\Users\\TOM & JERRY\\AppData\\Local\\Programs\\Python\\Python311\\Lib\\site-packages\\keras\\src\\backend.py:873: The name tf.get_default_graph is deprecated. Please use tf.compat.v1.get_default_graph instead.\n",
      "\n",
      "WARNING:tensorflow:From C:\\Users\\TOM & JERRY\\AppData\\Local\\Programs\\Python\\Python311\\Lib\\site-packages\\keras\\src\\layers\\pooling\\max_pooling2d.py:161: The name tf.nn.max_pool is deprecated. Please use tf.nn.max_pool2d instead.\n",
      "\n"
     ]
    }
   ],
   "source": [
    "from tensorflow import keras\n",
    "\n",
    "model = keras.Sequential()\n",
    "model.add(keras.layers.Conv2D(32, (3, 3), activation='sigmoid', input_shape=(150, 150, 3)))\n",
    "model.add(keras.layers.MaxPool2D(2, 2))\n",
    "model.add(keras.layers.Conv2D(64, (3, 3), activation='sigmoid'))\n",
    "model.add(keras.layers.MaxPool2D(2, 2))\n",
    "model.add(keras.layers.Conv2D(128, (3, 3), activation='sigmoid'))\n",
    "model.add(keras.layers.MaxPool2D(2, 2))\n",
    "model.add(keras.layers.Conv2D(128, (3, 3), activation='sigmoid'))\n",
    "model.add(keras.layers.MaxPool2D(2, 2))\n",
    "model.add(keras.layers.Flatten())\n",
    "model.add(keras.layers.Dense(512, activation='sigmoid'))\n",
    "model.add(keras.layers.Dense(1, activation='sigmoid'))\n"
   ]
  },
  {
   "cell_type": "code",
   "execution_count": 4,
   "id": "2043e823-1e63-415e-91d7-9f194dcdcef7",
   "metadata": {},
   "outputs": [
    {
     "name": "stdout",
     "output_type": "stream",
     "text": [
      "WARNING:tensorflow:From C:\\Users\\TOM & JERRY\\AppData\\Local\\Programs\\Python\\Python311\\Lib\\site-packages\\keras\\src\\optimizers\\__init__.py:309: The name tf.train.Optimizer is deprecated. Please use tf.compat.v1.train.Optimizer instead.\n",
      "\n"
     ]
    }
   ],
   "source": [
    "model.compile(optimizer='adam',loss='binary_crossentropy',metrics=['accuracy'])"
   ]
  },
  {
   "cell_type": "code",
   "execution_count": 5,
   "id": "2d09692a-b22b-4a29-a92e-f8ccc5b8d543",
   "metadata": {},
   "outputs": [
    {
     "name": "stdout",
     "output_type": "stream",
     "text": [
      "Epoch 1/10\n",
      "WARNING:tensorflow:From C:\\Users\\TOM & JERRY\\AppData\\Local\\Programs\\Python\\Python311\\Lib\\site-packages\\keras\\src\\utils\\tf_utils.py:492: The name tf.ragged.RaggedTensorValue is deprecated. Please use tf.compat.v1.ragged.RaggedTensorValue instead.\n",
      "\n",
      "WARNING:tensorflow:From C:\\Users\\TOM & JERRY\\AppData\\Local\\Programs\\Python\\Python311\\Lib\\site-packages\\keras\\src\\engine\\base_layer_utils.py:384: The name tf.executing_eagerly_outside_functions is deprecated. Please use tf.compat.v1.executing_eagerly_outside_functions instead.\n",
      "\n",
      "58/58 [==============================] - 42s 655ms/step - loss: 0.8561 - accuracy: 0.5197 - val_loss: 0.7319 - val_accuracy: 0.3235\n",
      "Epoch 2/10\n",
      "58/58 [==============================] - 21s 363ms/step - loss: 0.6976 - accuracy: 0.4967 - val_loss: 0.7628 - val_accuracy: 0.3235\n",
      "Epoch 3/10\n",
      "58/58 [==============================] - 21s 359ms/step - loss: 0.6999 - accuracy: 0.5033 - val_loss: 0.6787 - val_accuracy: 0.6765\n",
      "Epoch 4/10\n",
      "58/58 [==============================] - 21s 364ms/step - loss: 0.6987 - accuracy: 0.5076 - val_loss: 0.6850 - val_accuracy: 0.6765\n",
      "Epoch 5/10\n",
      "58/58 [==============================] - 20s 345ms/step - loss: 0.6974 - accuracy: 0.5011 - val_loss: 0.6845 - val_accuracy: 0.6765\n",
      "Epoch 6/10\n",
      "58/58 [==============================] - 21s 355ms/step - loss: 0.6966 - accuracy: 0.4869 - val_loss: 0.6451 - val_accuracy: 0.6765\n",
      "Epoch 7/10\n",
      "58/58 [==============================] - 21s 354ms/step - loss: 0.6956 - accuracy: 0.5142 - val_loss: 0.6967 - val_accuracy: 0.3235\n",
      "Epoch 8/10\n",
      "58/58 [==============================] - 21s 361ms/step - loss: 0.6959 - accuracy: 0.4978 - val_loss: 0.6887 - val_accuracy: 0.6765\n",
      "Epoch 9/10\n",
      "58/58 [==============================] - 22s 373ms/step - loss: 0.6955 - accuracy: 0.5153 - val_loss: 0.7442 - val_accuracy: 0.3235\n",
      "Epoch 10/10\n",
      "58/58 [==============================] - 22s 381ms/step - loss: 0.6931 - accuracy: 0.5229 - val_loss: 0.6646 - val_accuracy: 0.6765\n"
     ]
    }
   ],
   "source": [
    "r=model.fit(train_dataset,epochs=10,validation_data=test_dataset)"
   ]
  },
  {
   "cell_type": "code",
   "execution_count": null,
   "id": "e9eb94cb-71a7-415e-97bd-dacef6e9bb2f",
   "metadata": {},
   "outputs": [],
   "source": []
  }
 ],
 "metadata": {
  "kernelspec": {
   "display_name": "Python 3 (ipykernel)",
   "language": "python",
   "name": "python3"
  },
  "language_info": {
   "codemirror_mode": {
    "name": "ipython",
    "version": 3
   },
   "file_extension": ".py",
   "mimetype": "text/x-python",
   "name": "python",
   "nbconvert_exporter": "python",
   "pygments_lexer": "ipython3",
   "version": "3.11.3"
  }
 },
 "nbformat": 4,
 "nbformat_minor": 5
}
